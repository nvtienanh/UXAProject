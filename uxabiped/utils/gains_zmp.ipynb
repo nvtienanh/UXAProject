{
 "metadata": {
  "name": "",
  "signature": "sha256:21e010928873311bc6d3f5a6b762758844f1bb02ea1ef81dd3c31b519f84ab46"
 },
 "nbformat": 3,
 "nbformat_minor": 0,
 "worksheets": [
  {
   "cells": [
    {
     "cell_type": "code",
     "collapsed": false,
     "input": [
      "# This needs python-control: http://sourceforge.net/projects/python-control/\n",
      "# Basically a matlab compability layer for python\n",
      "\n",
      "import numpy as np\n",
      "import control\n",
      "\n",
      "\n",
      "g = 9.81 # gravity constant\n",
      "z = 0.86 # hight of COM\n",
      "T = 0.05 # lag of ZMP\n",
      "A = np.matrix([[0, 1, 0], [g/z, 0, -g/z], [0, 0, -1/T]])\n",
      "B = np.matrix([[0], [0], [1/T]])\n",
      "C = np.matrix([[0, 0, 1]])\n",
      "D = np.matrix([[0,]])\n",
      "\n",
      "ss = control.StateSpace(A, B, C, D)\n",
      "\n",
      "# Pole placement as suggested in the paper\n",
      "control.pole(ss)\n",
      "gains = control.place(A, B, [-13, 3, -np.sqrt(g/z)])\n",
      "\n",
      "print(gains)\n"
     ],
     "language": "python",
     "metadata": {},
     "outputs": [
      {
       "output_type": "stream",
       "stream": "stdout",
       "text": [
        "[[-0.09150757 -0.02709391 -0.33112892]]\n"
       ]
      }
     ],
     "prompt_number": 3
    }
   ],
   "metadata": {}
  }
 ]
}